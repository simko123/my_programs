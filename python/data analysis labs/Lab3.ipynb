{
 "cells": [
  {
   "cell_type": "markdown",
   "metadata": {},
   "source": [
    "# <center> Лабораторная работа № 3</center>\n",
    "Перед началом выполнения каждой лабораторной работы, необходимо выполнить код в двух ячейках ниже. В случае если модуль `datetime` не установлен нужно установить. В последнем принте, вывести свою фамилию и инициалы."
   ]
  },
  {
   "cell_type": "code",
   "execution_count": 1,
   "metadata": {},
   "outputs": [
    {
     "name": "stdout",
     "output_type": "stream",
     "text": [
      "simko\r\n"
     ]
    }
   ],
   "source": [
    "!whoami"
   ]
  },
  {
   "cell_type": "code",
   "execution_count": 2,
   "metadata": {},
   "outputs": [
    {
     "name": "stdout",
     "output_type": "stream",
     "text": [
      "2022-12-06 20:16:58.078397\n",
      "Simko S.E.\n"
     ]
    }
   ],
   "source": [
    "from datetime import datetime\n",
    "\n",
    "current_time = datetime.now()\n",
    "print(current_time)\n",
    "print(\"Simko S.E.\") # написать здесь свою фамилию и инициалы"
   ]
  },
  {
   "cell_type": "markdown",
   "metadata": {},
   "source": [
    "# Задания"
   ]
  },
  {
   "cell_type": "markdown",
   "metadata": {},
   "source": [
    "**Задание 1.** Создайте файл с расширением .txt, содержащий несколько чисел, записанных через пробел. Напишите программу или функцию, которая подсчитывает и выводит на экран общую сумму чисел, хранящихся в этом файле."
   ]
  },
  {
   "cell_type": "code",
   "execution_count": 4,
   "metadata": {},
   "outputs": [
    {
     "name": "stdout",
     "output_type": "stream",
     "text": [
      "102962\n"
     ]
    }
   ],
   "source": [
    "with open(\"numbers.txt\", 'w') as file:\n",
    "    file.write(\"1 3 8 8 9 4 100000 2929\")\n",
    "\n",
    "def file_sum(file_name):\n",
    "    with open(file_name, 'r') as file:\n",
    "        return sum([int(i) for i in file.readline().split()])\n",
    "print(file_sum(\"numbers.txt\"))"
   ]
  },
  {
   "cell_type": "markdown",
   "metadata": {},
   "source": [
    "**Задание 2.** Напишите функцию `read_file`, которая принимает имя файла, и печатает его содержимое. Учитывайте, что содержимое файла может быть как на русском языке, так и на английском (т.е. не забываем про кодировку)."
   ]
  },
  {
   "cell_type": "code",
   "execution_count": 3,
   "metadata": {},
   "outputs": [
    {
     "name": "stdout",
     "output_type": "stream",
     "text": [
      "1 3 8 8 9 4 100000 2929\n"
     ]
    }
   ],
   "source": [
    "def read_file(file_name):\n",
    "    with open(file_name, 'r', encoding = \"utf-8\") as file:\n",
    "        for line in file.readlines():\n",
    "            print(line)\n",
    "read_file(\"numbers.txt\")"
   ]
  },
  {
   "cell_type": "markdown",
   "metadata": {},
   "source": [
    "**Задание 3.** \n",
    "\n",
    "3.1.  Напишите цикл, который выводит только запросы, содержащие набор букв «эпл».\n",
    "Внимательно просмотрите полученный список и найдите лишние слова.\n",
    "\n",
    ">queries = [\"эпл айфоны\",\n",
    "\"купить эпл телефон\",\n",
    "\"лучшие смартфоны\",\n",
    "\"барон фон\",\n",
    "\"смартфон эпл айфон\",\n",
    "\"смартфоны 2019\",\n",
    "\"эплан\",\n",
    "\"фоновая музыка\",\n",
    "\"эпл айфоны икс\",\n",
    "\"эпл айфон 64гб\",\n",
    "\"фон для фото\",\n",
    "\"купить эпл\",\n",
    "\"эпл айфон купить\",\n",
    "\"эплеренон купить\",\n",
    "\"смартфон где купить\",\n",
    "\"эплан показания\",\n",
    "\"смартфон huawei\",\n",
    "\"эпл\"]\n",
    "\n",
    "3.2. Проведите стемминг в списке words. Результат выведите на экран в следующем виде:\n",
    ">Исходное слово - ..., после стемминга - ...\n",
    "\n",
    "3.3 Сформируйте список запросов с «эпл»."
   ]
  },
  {
   "cell_type": "code",
   "execution_count": 9,
   "metadata": {},
   "outputs": [
    {
     "name": "stdout",
     "output_type": "stream",
     "text": [
      "эпл айфоны\n",
      "купить эпл телефон\n",
      "смартфон эпл айфон\n",
      "эплан\n",
      "эпл айфоны икс\n",
      "эпл айфон 64гб\n",
      "купить эпл\n",
      "эпл айфон купить\n",
      "эплеренон купить\n",
      "эплан показания\n",
      "эпл\n"
     ]
    }
   ],
   "source": [
    "# 3.1\n",
    "queries = [\"эпл айфоны\", \"купить эпл телефон\", \"лучшие смартфоны\", \"барон фон\", \"смартфон эпл айфон\", \"смартфоны 2019\", \"эплан\", \"фоновая музыка\", \"эпл айфоны икс\", \"эпл айфон 64гб\", \"фон для фото\", \"купить эпл\", \"эпл айфон купить\", \"эплеренон купить\", \"смартфон где купить\", \"эплан показания\", \"смартфон huawei\", \"эпл\"]\n",
    "for query in queries:\n",
    "    if \"эпл\" in query:\n",
    "        print(query)"
   ]
  },
  {
   "cell_type": "code",
   "execution_count": 10,
   "metadata": {},
   "outputs": [
    {
     "name": "stdout",
     "output_type": "stream",
     "text": [
      "Исходное слово - эпл. После стемминга - эпл\n",
      "Исходное слово - эплан. После стемминга - эпла\n",
      "Исходное слово - эплеренон. После стемминга - эплеренон\n"
     ]
    }
   ],
   "source": [
    "# 3.2\n",
    "from nltk.stem import SnowballStemmer\n",
    "russian_stemmer = SnowballStemmer('russian')\n",
    "words = [\"эпл\", \"эплан\", \"эплеренон\"]\n",
    "for word in words:\n",
    "    print(f\"Исходное слово - {word}. После стемминга - {russian_stemmer.stem(word)}\")"
   ]
  },
  {
   "cell_type": "code",
   "execution_count": 11,
   "metadata": {},
   "outputs": [
    {
     "name": "stdout",
     "output_type": "stream",
     "text": [
      "['эпл', 'эпл айфоны', 'купить эпл телефон', 'смартфон эпл айфон', 'эпл айфоны икс', 'эпл айфон 64гб', 'купить эпл', 'эпл айфон купить', 'эпл']\n"
     ]
    }
   ],
   "source": [
    "# 3.3\n",
    "apple_queries = []\n",
    "for query in words + queries:\n",
    "    if \"эпл\" in russian_stemmer.stem(query).split():\n",
    "        apple_queries.append(query)\n",
    "print(apple_queries)"
   ]
  }
 ],
 "metadata": {
  "kernelspec": {
   "display_name": "Python 3",
   "language": "python",
   "name": "python3"
  },
  "language_info": {
   "codemirror_mode": {
    "name": "ipython",
    "version": 3
   },
   "file_extension": ".py",
   "mimetype": "text/x-python",
   "name": "python",
   "nbconvert_exporter": "python",
   "pygments_lexer": "ipython3",
   "version": "3.7.10"
  },
  "toc": {
   "base_numbering": 1,
   "nav_menu": {},
   "number_sections": false,
   "sideBar": true,
   "skip_h1_title": false,
   "title_cell": "Table of Contents",
   "title_sidebar": "Contents",
   "toc_cell": false,
   "toc_position": {},
   "toc_section_display": true,
   "toc_window_display": false
  }
 },
 "nbformat": 4,
 "nbformat_minor": 5
}
