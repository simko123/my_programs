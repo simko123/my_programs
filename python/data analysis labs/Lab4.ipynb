{
 "cells": [
  {
   "cell_type": "markdown",
   "metadata": {},
   "source": [
    "# <center> Лабораторная работа № 4</center>\n",
    "Перед началом выполнения каждой лабораторной работы, необходимо выполнить код в двух ячейках ниже. В случае если модуль `datetime` не установлен нужно установить. В последнем принте нужно вывести свою фамилию и инициалы."
   ]
  },
  {
   "cell_type": "code",
   "execution_count": 2,
   "metadata": {},
   "outputs": [
    {
     "name": "stdout",
     "output_type": "stream",
     "text": [
      "simko\r\n"
     ]
    }
   ],
   "source": [
    "!whoami"
   ]
  },
  {
   "cell_type": "code",
   "execution_count": 3,
   "metadata": {},
   "outputs": [
    {
     "name": "stdout",
     "output_type": "stream",
     "text": [
      "2022-12-09 15:57:04.705253\n",
      "Simko S.E.\n"
     ]
    }
   ],
   "source": [
    "from datetime import datetime\n",
    "\n",
    "current_time = datetime.now()\n",
    "print(current_time)\n",
    "print(\"Simko S.E.\") # написать здесь свою фамилию и инициалы"
   ]
  },
  {
   "cell_type": "markdown",
   "metadata": {},
   "source": [
    "# Задания"
   ]
  },
  {
   "cell_type": "code",
   "execution_count": 2,
   "metadata": {},
   "outputs": [],
   "source": [
    "import pandas as pd\n",
    "df = pd.read_csv(\"data.csv\", sep = ';')"
   ]
  },
  {
   "cell_type": "markdown",
   "metadata": {},
   "source": [
    "**Задание 1.** В датафрейме `df` задана некоторая таблица. Написать функцию `get_rows_after_5(df, n)`, возвращающую датафрейм, в котором записано `n` строк, начиная с пятой сверху (включая 5-ю). Например, `get_row_after_5(df, 1)` должна вернуть только пятую строку, а `get_row_after_5(df, 2)` — 5-ю и 6-ю.\n",
    "\n",
    "**Внимание!** Индексами (именами строк) могут быть не числа, а что угодно."
   ]
  },
  {
   "cell_type": "code",
   "execution_count": 5,
   "metadata": {},
   "outputs": [
    {
     "data": {
      "text/html": [
       "<div>\n",
       "<style scoped>\n",
       "    .dataframe tbody tr th:only-of-type {\n",
       "        vertical-align: middle;\n",
       "    }\n",
       "\n",
       "    .dataframe tbody tr th {\n",
       "        vertical-align: top;\n",
       "    }\n",
       "\n",
       "    .dataframe thead th {\n",
       "        text-align: right;\n",
       "    }\n",
       "</style>\n",
       "<table border=\"1\" class=\"dataframe\">\n",
       "  <thead>\n",
       "    <tr style=\"text-align: right;\">\n",
       "      <th></th>\n",
       "      <th>ID</th>\n",
       "      <th>Region</th>\n",
       "      <th>global_id</th>\n",
       "      <th>TariffItem</th>\n",
       "      <th>UnitOfMeasure</th>\n",
       "      <th>StartDate</th>\n",
       "      <th>EndDate</th>\n",
       "      <th>MeasureDeviceAvail</th>\n",
       "      <th>StoveType</th>\n",
       "      <th>ConsumptionTime</th>\n",
       "      <th>ConsumptionTarget</th>\n",
       "      <th>Agency</th>\n",
       "      <th>TariffValue</th>\n",
       "      <th>Unnamed: 13</th>\n",
       "    </tr>\n",
       "  </thead>\n",
       "  <tbody>\n",
       "    <tr>\n",
       "      <th>4</th>\n",
       "      <td>302</td>\n",
       "      <td>город Москва (за исключением Троицкого и Новом...</td>\n",
       "      <td>19693301</td>\n",
       "      <td>Электроэнергия</td>\n",
       "      <td>руб/кВт.ч</td>\n",
       "      <td>01.07.2012</td>\n",
       "      <td>31.07.2012</td>\n",
       "      <td>да</td>\n",
       "      <td>газовая</td>\n",
       "      <td>с 17:00 по 21:00 ч (многотарифный учет)</td>\n",
       "      <td>на бытовые нужды</td>\n",
       "      <td>ОАО «Мосэнергосбыт»</td>\n",
       "      <td>4.03</td>\n",
       "      <td>NaN</td>\n",
       "    </tr>\n",
       "    <tr>\n",
       "      <th>5</th>\n",
       "      <td>313</td>\n",
       "      <td>город Москва (за исключением Троицкого и Новом...</td>\n",
       "      <td>19693302</td>\n",
       "      <td>Отопление</td>\n",
       "      <td>руб/Гкал</td>\n",
       "      <td>01.09.2012</td>\n",
       "      <td>31.12.2012</td>\n",
       "      <td>да</td>\n",
       "      <td>NaN</td>\n",
       "      <td>NaN</td>\n",
       "      <td>NaN</td>\n",
       "      <td>ОАО «МОЭК» и иные, кроме ОАО «Мосэнерго» и ОАО...</td>\n",
       "      <td>1440.50</td>\n",
       "      <td>NaN</td>\n",
       "    </tr>\n",
       "  </tbody>\n",
       "</table>\n",
       "</div>"
      ],
      "text/plain": [
       "    ID                                             Region  global_id  \\\n",
       "4  302  город Москва (за исключением Троицкого и Новом...   19693301   \n",
       "5  313  город Москва (за исключением Троицкого и Новом...   19693302   \n",
       "\n",
       "       TariffItem UnitOfMeasure   StartDate     EndDate MeasureDeviceAvail  \\\n",
       "4  Электроэнергия     руб/кВт.ч  01.07.2012  31.07.2012                 да   \n",
       "5       Отопление      руб/Гкал  01.09.2012  31.12.2012                 да   \n",
       "\n",
       "  StoveType                          ConsumptionTime ConsumptionTarget  \\\n",
       "4   газовая  с 17:00 по 21:00 ч (многотарифный учет)  на бытовые нужды   \n",
       "5       NaN                                      NaN               NaN   \n",
       "\n",
       "                                              Agency  TariffValue  Unnamed: 13  \n",
       "4                                ОАО «Мосэнергосбыт»         4.03          NaN  \n",
       "5  ОАО «МОЭК» и иные, кроме ОАО «Мосэнерго» и ОАО...      1440.50          NaN  "
      ]
     },
     "execution_count": 5,
     "metadata": {},
     "output_type": "execute_result"
    }
   ],
   "source": [
    "def get_rows_after_5(df, n):\n",
    "    return df.iloc[4:(4+n)] \n",
    "\n",
    "get_rows_after_5(df,2)"
   ]
  },
  {
   "cell_type": "markdown",
   "metadata": {},
   "source": [
    "**Задание 2.** В датафрейме `df` задана некоторая таблица, её индексами являются целые числа, не обязательно идущие по порядку. Написать функцию `between(df, n, m)`, возвращающую все строки этой таблицы, расположенные между строками с индексами `n` и `m`, включая строки с индексами `n` и `m`. Гарантируется, что строка с индексом `n` встречается раньше строки с индексом `m`."
   ]
  },
  {
   "cell_type": "code",
   "execution_count": 6,
   "metadata": {},
   "outputs": [
    {
     "data": {
      "text/html": [
       "<div>\n",
       "<style scoped>\n",
       "    .dataframe tbody tr th:only-of-type {\n",
       "        vertical-align: middle;\n",
       "    }\n",
       "\n",
       "    .dataframe tbody tr th {\n",
       "        vertical-align: top;\n",
       "    }\n",
       "\n",
       "    .dataframe thead th {\n",
       "        text-align: right;\n",
       "    }\n",
       "</style>\n",
       "<table border=\"1\" class=\"dataframe\">\n",
       "  <thead>\n",
       "    <tr style=\"text-align: right;\">\n",
       "      <th></th>\n",
       "      <th>ID</th>\n",
       "      <th>Region</th>\n",
       "      <th>global_id</th>\n",
       "      <th>TariffItem</th>\n",
       "      <th>UnitOfMeasure</th>\n",
       "      <th>StartDate</th>\n",
       "      <th>EndDate</th>\n",
       "      <th>MeasureDeviceAvail</th>\n",
       "      <th>StoveType</th>\n",
       "      <th>ConsumptionTime</th>\n",
       "      <th>ConsumptionTarget</th>\n",
       "      <th>Agency</th>\n",
       "      <th>TariffValue</th>\n",
       "      <th>Unnamed: 13</th>\n",
       "    </tr>\n",
       "  </thead>\n",
       "  <tbody>\n",
       "    <tr>\n",
       "      <th>7</th>\n",
       "      <td>319</td>\n",
       "      <td>город Москва (за исключением Троицкого и Новом...</td>\n",
       "      <td>19693304</td>\n",
       "      <td>Горячее водоснабжение</td>\n",
       "      <td>руб/куб.м</td>\n",
       "      <td>01.09.2012</td>\n",
       "      <td>31.12.2012</td>\n",
       "      <td>да</td>\n",
       "      <td>NaN</td>\n",
       "      <td>NaN</td>\n",
       "      <td>NaN</td>\n",
       "      <td>ОАО «МОЭК» и иные, кроме ОАО «Мосэнерго» и ОАО...</td>\n",
       "      <td>116.00</td>\n",
       "      <td>NaN</td>\n",
       "    </tr>\n",
       "    <tr>\n",
       "      <th>8</th>\n",
       "      <td>324</td>\n",
       "      <td>город Москва (за исключением Троицкого и Новом...</td>\n",
       "      <td>19693305</td>\n",
       "      <td>Газ</td>\n",
       "      <td>руб/чел</td>\n",
       "      <td>01.07.2012</td>\n",
       "      <td>31.12.2012</td>\n",
       "      <td>нет</td>\n",
       "      <td>NaN</td>\n",
       "      <td>NaN</td>\n",
       "      <td>при наличии в квартире газовой плиты и централ...</td>\n",
       "      <td>ООО «Газпром межрегионгаз Москва»</td>\n",
       "      <td>39.01</td>\n",
       "      <td>NaN</td>\n",
       "    </tr>\n",
       "  </tbody>\n",
       "</table>\n",
       "</div>"
      ],
      "text/plain": [
       "    ID                                             Region  global_id  \\\n",
       "7  319  город Москва (за исключением Троицкого и Новом...   19693304   \n",
       "8  324  город Москва (за исключением Троицкого и Новом...   19693305   \n",
       "\n",
       "              TariffItem UnitOfMeasure   StartDate     EndDate  \\\n",
       "7  Горячее водоснабжение     руб/куб.м  01.09.2012  31.12.2012   \n",
       "8                    Газ       руб/чел  01.07.2012  31.12.2012   \n",
       "\n",
       "  MeasureDeviceAvail StoveType ConsumptionTime  \\\n",
       "7                 да       NaN             NaN   \n",
       "8                нет       NaN             NaN   \n",
       "\n",
       "                                   ConsumptionTarget  \\\n",
       "7                                                NaN   \n",
       "8  при наличии в квартире газовой плиты и централ...   \n",
       "\n",
       "                                              Agency  TariffValue  Unnamed: 13  \n",
       "7  ОАО «МОЭК» и иные, кроме ОАО «Мосэнерго» и ОАО...       116.00          NaN  \n",
       "8                  ООО «Газпром межрегионгаз Москва»        39.01          NaN  "
      ]
     },
     "execution_count": 6,
     "metadata": {},
     "output_type": "execute_result"
    }
   ],
   "source": [
    "def between(df, n, m):\n",
    "    return df.loc[n:m]\n",
    "between(df, 7, 8)"
   ]
  },
  {
   "cell_type": "markdown",
   "metadata": {},
   "source": [
    "**Задание 3.** Загрузите файл `data.csv` (приложен к лабораторной работе). \n",
    "\n",
    "3.1. Определите типы данных в каждом столбце и объем используемой памяти таблицей.\n",
    "\n",
    "3.2. Столбцы с датами `StartDate` и `EndDate` приведети к типу `datetime64` (можно использовать функцию `pd.to_datetime()`) .\n",
    "\n",
    "3.3. Выберите из датафрейма агенство **ОАО «Мосэнергосбыт»** и подсчитайте среднее значение тарифа (`TariffValue`).\n",
    "\n",
    "3.4. Подсчитайте для каждого агенства _сумму, максимальное, минимальное, среднее, медианое_ значения тарифа (`TariffValue`)."
   ]
  },
  {
   "cell_type": "code",
   "execution_count": 4,
   "metadata": {},
   "outputs": [
    {
     "name": "stdout",
     "output_type": "stream",
     "text": [
      "ID                      int64\n",
      "Region                 object\n",
      "global_id               int64\n",
      "TariffItem             object\n",
      "UnitOfMeasure          object\n",
      "StartDate              object\n",
      "EndDate                object\n",
      "MeasureDeviceAvail     object\n",
      "StoveType              object\n",
      "ConsumptionTime        object\n",
      "ConsumptionTarget      object\n",
      "Agency                 object\n",
      "TariffValue           float64\n",
      "Unnamed: 13           float64\n",
      "dtype: object \n",
      "\n",
      "Index                 128\n",
      "ID                    568\n",
      "Region                568\n",
      "global_id             568\n",
      "TariffItem            568\n",
      "UnitOfMeasure         568\n",
      "StartDate             568\n",
      "EndDate               568\n",
      "MeasureDeviceAvail    568\n",
      "StoveType             568\n",
      "ConsumptionTime       568\n",
      "ConsumptionTarget     568\n",
      "Agency                568\n",
      "TariffValue           568\n",
      "Unnamed: 13           568\n",
      "dtype: int64 \n",
      "\n",
      "8080 bytes total\n"
     ]
    }
   ],
   "source": [
    "# 3.1\n",
    "print(df.dtypes, '\\n')\n",
    "print(df.memory_usage(), '\\n')\n",
    "print(sum(df.memory_usage()), \"bytes total\")"
   ]
  },
  {
   "cell_type": "code",
   "execution_count": 5,
   "metadata": {},
   "outputs": [
    {
     "name": "stdout",
     "output_type": "stream",
     "text": [
      "ID                             int64\n",
      "Region                        object\n",
      "global_id                      int64\n",
      "TariffItem                    object\n",
      "UnitOfMeasure                 object\n",
      "StartDate             datetime64[ns]\n",
      "EndDate               datetime64[ns]\n",
      "MeasureDeviceAvail            object\n",
      "StoveType                     object\n",
      "ConsumptionTime               object\n",
      "ConsumptionTarget             object\n",
      "Agency                        object\n",
      "TariffValue                  float64\n",
      "Unnamed: 13                  float64\n",
      "dtype: object\n"
     ]
    }
   ],
   "source": [
    "# 3.2\n",
    "df[\"StartDate\"] = pd.to_datetime(df[\"StartDate\"])\n",
    "df[\"EndDate\"] = pd.to_datetime(df[\"EndDate\"])\n",
    "print(df.dtypes)"
   ]
  },
  {
   "cell_type": "code",
   "execution_count": 6,
   "metadata": {},
   "outputs": [
    {
     "name": "stdout",
     "output_type": "stream",
     "text": [
      "2.57125\n"
     ]
    }
   ],
   "source": [
    "# 3.3\n",
    "MES_df = df[df[\"Agency\"] == \"ОАО «Мосэнергосбыт»\"]\n",
    "print(MES_df[\"TariffValue\"].mean())"
   ]
  },
  {
   "cell_type": "code",
   "execution_count": 35,
   "metadata": {},
   "outputs": [],
   "source": [
    "# 3.4\n",
    "agencies = list(set(df[\"Agency\"]))\n",
    "agencies_tariff_df = pd.DataFrame({\n",
    "    \"SumTariff\": 0.0,\n",
    "    \"AverageTariff\": 0.0,\n",
    "    \"MinTariff\": 0.0,\n",
    "    \"MaxTariff\": 0.0,\n",
    "    \"MedianTariff\": 0.0}, index = agencies)\n",
    "for agency in agencies:\n",
    "    agency_df = df[df[\"Agency\"] == agency]\n",
    "    agency_tariff = agency_df[\"TariffValue\"]\n",
    "    agencies_tariff_df.at[agency, \"SumTariff\"] = sum(list(agency_tariff))\n",
    "    agencies_tariff_df.at[agency, \"AverageTariff\"] = agency_tariff.mean()\n",
    "    agencies_tariff_df.at[agency, \"MinTariff\"] = min(list(agency_tariff))\n",
    "    agencies_tariff_df.at[agency, \"MaxTariff\"] = max(list(agency_tariff))\n",
    "    agencies_tariff_df.at[agency, \"MedianTariff\"] = agency_tariff.median()"
   ]
  },
  {
   "cell_type": "code",
   "execution_count": 36,
   "metadata": {},
   "outputs": [
    {
     "data": {
      "text/html": [
       "<div>\n",
       "<style scoped>\n",
       "    .dataframe tbody tr th:only-of-type {\n",
       "        vertical-align: middle;\n",
       "    }\n",
       "\n",
       "    .dataframe tbody tr th {\n",
       "        vertical-align: top;\n",
       "    }\n",
       "\n",
       "    .dataframe thead th {\n",
       "        text-align: right;\n",
       "    }\n",
       "</style>\n",
       "<table border=\"1\" class=\"dataframe\">\n",
       "  <thead>\n",
       "    <tr style=\"text-align: right;\">\n",
       "      <th></th>\n",
       "      <th>SumTariff</th>\n",
       "      <th>AverageTariff</th>\n",
       "      <th>MinTariff</th>\n",
       "      <th>MaxTariff</th>\n",
       "      <th>MedianTariff</th>\n",
       "    </tr>\n",
       "  </thead>\n",
       "  <tbody>\n",
       "    <tr>\n",
       "      <th>ОАО «Мосэнерго» и ОАО «МТК»</th>\n",
       "      <td>3366.70</td>\n",
       "      <td>561.116667</td>\n",
       "      <td>84.62</td>\n",
       "      <td>1075.43</td>\n",
       "      <td>541.455</td>\n",
       "    </tr>\n",
       "    <tr>\n",
       "      <th>ООО «Мосрегионгаз»</th>\n",
       "      <td>7.02</td>\n",
       "      <td>3.510000</td>\n",
       "      <td>2.93</td>\n",
       "      <td>4.09</td>\n",
       "      <td>3.510</td>\n",
       "    </tr>\n",
       "    <tr>\n",
       "      <th>ООО «Газпром межрегионгаз Москва»</th>\n",
       "      <td>13021.28</td>\n",
       "      <td>723.404444</td>\n",
       "      <td>4.09</td>\n",
       "      <td>3370.00</td>\n",
       "      <td>36.460</td>\n",
       "    </tr>\n",
       "    <tr>\n",
       "      <th>ОАО «Мосгаз»</th>\n",
       "      <td>1126.00</td>\n",
       "      <td>1126.000000</td>\n",
       "      <td>1126.00</td>\n",
       "      <td>1126.00</td>\n",
       "      <td>1126.000</td>\n",
       "    </tr>\n",
       "    <tr>\n",
       "      <th>ОАО «МОЭК» и иные, кроме ОАО «Мосэнерго» и ОАО «МТК»</th>\n",
       "      <td>4484.41</td>\n",
       "      <td>747.401667</td>\n",
       "      <td>105.45</td>\n",
       "      <td>1440.50</td>\n",
       "      <td>720.850</td>\n",
       "    </tr>\n",
       "  </tbody>\n",
       "</table>\n",
       "</div>"
      ],
      "text/plain": [
       "                                                    SumTariff  AverageTariff  \\\n",
       "ОАО «Мосэнерго» и ОАО «МТК»                           3366.70     561.116667   \n",
       "ООО «Мосрегионгаз»                                       7.02       3.510000   \n",
       "ООО «Газпром межрегионгаз Москва»                    13021.28     723.404444   \n",
       "ОАО «Мосгаз»                                          1126.00    1126.000000   \n",
       "ОАО «МОЭК» и иные, кроме ОАО «Мосэнерго» и ОАО ...    4484.41     747.401667   \n",
       "\n",
       "                                                    MinTariff  MaxTariff  \\\n",
       "ОАО «Мосэнерго» и ОАО «МТК»                             84.62    1075.43   \n",
       "ООО «Мосрегионгаз»                                       2.93       4.09   \n",
       "ООО «Газпром межрегионгаз Москва»                        4.09    3370.00   \n",
       "ОАО «Мосгаз»                                          1126.00    1126.00   \n",
       "ОАО «МОЭК» и иные, кроме ОАО «Мосэнерго» и ОАО ...     105.45    1440.50   \n",
       "\n",
       "                                                    MedianTariff  \n",
       "ОАО «Мосэнерго» и ОАО «МТК»                              541.455  \n",
       "ООО «Мосрегионгаз»                                         3.510  \n",
       "ООО «Газпром межрегионгаз Москва»                         36.460  \n",
       "ОАО «Мосгаз»                                            1126.000  \n",
       "ОАО «МОЭК» и иные, кроме ОАО «Мосэнерго» и ОАО ...       720.850  "
      ]
     },
     "execution_count": 36,
     "metadata": {},
     "output_type": "execute_result"
    }
   ],
   "source": [
    "agencies_tariff_df.head()"
   ]
  }
 ],
 "metadata": {
  "kernelspec": {
   "display_name": "Python 3",
   "language": "python",
   "name": "python3"
  },
  "language_info": {
   "codemirror_mode": {
    "name": "ipython",
    "version": 3
   },
   "file_extension": ".py",
   "mimetype": "text/x-python",
   "name": "python",
   "nbconvert_exporter": "python",
   "pygments_lexer": "ipython3",
   "version": "3.7.10"
  },
  "toc": {
   "base_numbering": 1,
   "nav_menu": {},
   "number_sections": false,
   "sideBar": true,
   "skip_h1_title": false,
   "title_cell": "Table of Contents",
   "title_sidebar": "Contents",
   "toc_cell": false,
   "toc_position": {},
   "toc_section_display": true,
   "toc_window_display": false
  }
 },
 "nbformat": 4,
 "nbformat_minor": 5
}
