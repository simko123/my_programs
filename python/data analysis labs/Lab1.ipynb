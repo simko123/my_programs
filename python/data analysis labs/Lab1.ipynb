{
 "cells": [
  {
   "cell_type": "markdown",
   "metadata": {},
   "source": [
    "# <center> Лабораторная работа № 1</center>\n",
    "Перед началом выполнения каждой лабораторной работы, необходимо выполнить код в двух ячейках ниже. В случае если модуль `datetime` не установлен нужно установить. В последнем принте, вывести свою фамилию и инициалы."
   ]
  },
  {
   "cell_type": "code",
   "execution_count": 6,
   "metadata": {},
   "outputs": [
    {
     "name": "stdout",
     "output_type": "stream",
     "text": [
      "simko\r\n"
     ]
    }
   ],
   "source": [
    "!whoami"
   ]
  },
  {
   "cell_type": "code",
   "execution_count": 5,
   "metadata": {},
   "outputs": [
    {
     "name": "stdout",
     "output_type": "stream",
     "text": [
      "2022-11-25 17:34:05.525177\n",
      "Simko S.E.\n"
     ]
    }
   ],
   "source": [
    "from datetime import datetime\n",
    "\n",
    "current_time = datetime.now()\n",
    "print(current_time)\n",
    "print(\"Simko S.E.\") # написать здесь свою фамилию и инициалы"
   ]
  },
  {
   "cell_type": "markdown",
   "metadata": {},
   "source": [
    "# Задания"
   ]
  },
  {
   "cell_type": "markdown",
   "metadata": {},
   "source": [
    "**Задание 1.** Программа должна заращивать у пользователя ввести любое положительное число и вывести первую и последню цифру этого числа, кол-во цифр в числе, сумму цифр в числе."
   ]
  },
  {
   "cell_type": "code",
   "execution_count": 4,
   "metadata": {},
   "outputs": [
    {
     "name": "stdout",
     "output_type": "stream",
     "text": [
      "Введите положительное число: 993\n",
      "9 3\n",
      "3\n",
      "21\n"
     ]
    }
   ],
   "source": [
    "num = int(input(\"Введите положительное число: \"))\n",
    "if num < 0:\n",
    "    print(\"Положительное!!! Попробуйте снова.\")\n",
    "else:\n",
    "    digits = [int(digit) for digit in list(str(num))]\n",
    "    print(\"Первая цифра:\", digits[0], \"Последняя цифра:\", digits[-1])\n",
    "    print(\"Количество цифр:\", len(digits))\n",
    "    print(\"Сумма цифр:\", sum(digits))"
   ]
  },
  {
   "cell_type": "markdown",
   "metadata": {},
   "source": [
    "**Задание 2.** Программа должна заращивать у пользователя ввести любое  положительное пятизначное число и вывести третью цифру этого числа."
   ]
  },
  {
   "cell_type": "code",
   "execution_count": 1,
   "metadata": {},
   "outputs": [
    {
     "name": "stdout",
     "output_type": "stream",
     "text": [
      "Введите положительное пятизначное число: 12345\n",
      "Третья цифра: 3\n"
     ]
    }
   ],
   "source": [
    "num = int(input(\"Введите положительное пятизначное число: \"))\n",
    "if num < 0 or len(str(num)) != 5:\n",
    "    print(\"Положительное. Пятизначное. Число. Попробуйте снова.\")\n",
    "else:\n",
    "    print(\"Третья цифра:\", str(num)[2])"
   ]
  },
  {
   "cell_type": "markdown",
   "metadata": {},
   "source": [
    "**Задание 3.** Определить. \n",
    "Программа должна заращивать у пользователя ввести любое два `a` и `b` положительных числа.\n",
    "Затем необходимо вычислить выражения `a//-b` и `a%-b`, а после объяснить (в ячейке *markdown*) как происходит вычисления в подобных выражениях."
   ]
  },
  {
   "cell_type": "code",
   "execution_count": 6,
   "metadata": {},
   "outputs": [
    {
     "name": "stdout",
     "output_type": "stream",
     "text": [
      "Введите положительное число а: 7\n",
      "Введите положительное число b: 2\n",
      "a//-b = -4 \n",
      "a%-b = -1\n"
     ]
    }
   ],
   "source": [
    "a, b = int(input(\"Введите положительное число а: \")), int(input(\"Введите положительное число b: \"))\n",
    "if a < 0 or b < 0:\n",
    "    print(\"Положительные. Попробуйте снова\")\n",
    "else:\n",
    "    print(\"a//-b =\", a//(-b), \"\\na%-b =\", a%(-b))"
   ]
  },
  {
   "cell_type": "markdown",
   "metadata": {},
   "source": [
    "Если поделить целочисленно, то работать это будет так:\n",
    "7 // -2 = -4; -4*-2 = 8; 7 = 8 + (-1);\n",
    "То есть остаток от деления здесь -1, а целая часть -4"
   ]
  },
  {
   "cell_type": "markdown",
   "metadata": {},
   "source": [
    "**Задание 4.** Напишите, программу, чтобы текст выводился в таком виде, как представлен ниже. Программа должна запращивать два значения размер партии и кол-во бракованных единиц `batch_size, number_of_defective`, и посчитать долю брака в процентах `percentage_of_defective`. Если процент брака больше 15, тогда напечатать слово **ужасны**, вместо **прекрасны** (вместо **почти нет** на **много**).\n",
    "\n",
    "\n",
    "    Хотим сообщить, что ваши ноутбуки прекрасны(ужасны) и брака почти нет (много).\n",
    "    Из партии, которую вы нам прислали, в размере\n",
    "    batch_size\n",
    "    единиц, всего\n",
    "    number_of_defective\n",
    "    ноутбуков были бракованными. Что составляет около\n",
    "    percentage_of_defective %. \n",
    "\n",
    "    С уважением и любовью,\n",
    "    Иван Иванович\n",
    "    тел. +7234567891"
   ]
  },
  {
   "cell_type": "code",
   "execution_count": 11,
   "metadata": {},
   "outputs": [
    {
     "name": "stdout",
     "output_type": "stream",
     "text": [
      "Введите размер партии: 100\n",
      "Введите количество брака: 17\n",
      "Хотим сообщить, что ваши ноутбуки ужасны и брака много.\n",
      "Из партии, которую вы нам прислали, в размере\n",
      "100\n",
      "единиц, всего\n",
      "17\n",
      "ноутбуков были бракованными. Что составляет около\n",
      "17.0 %.\n",
      "\n",
      "С уважением и любовью,\n",
      "Иван Иванович\n",
      "тел. +7234567891\n"
     ]
    }
   ],
   "source": [
    "batch_size = int(input(\"Введите размер партии: \"))\n",
    "number_of_defective = int(input(\"Введите количество брака: \"))\n",
    "percentage_of_defective = (number_of_defective / batch_size) * 100\n",
    "\n",
    "if percentage_of_defective > 15:\n",
    "    ok1 = \"ужасны\"\n",
    "    ok2 = \"много\"\n",
    "else:\n",
    "    ok1 = \"прекрасны\"\n",
    "    ok2 = \"почти нет\"\n",
    "    \n",
    "print(\n",
    "f\"\"\"Хотим сообщить, что ваши ноутбуки {ok1} и брака {ok2}.\n",
    "Из партии, которую вы нам прислали, в размере\n",
    "{batch_size}\n",
    "единиц, всего\n",
    "{number_of_defective}\n",
    "ноутбуков были бракованными. Что составляет около\n",
    "{percentage_of_defective} %.\\n\n",
    "С уважением и любовью,\n",
    "Иван Иванович\n",
    "тел. +7234567891\"\"\"\n",
    ")"
   ]
  }
 ],
 "metadata": {
  "kernelspec": {
   "display_name": "Python 3",
   "language": "python",
   "name": "python3"
  },
  "language_info": {
   "codemirror_mode": {
    "name": "ipython",
    "version": 3
   },
   "file_extension": ".py",
   "mimetype": "text/x-python",
   "name": "python",
   "nbconvert_exporter": "python",
   "pygments_lexer": "ipython3",
   "version": "3.7.10"
  },
  "toc": {
   "base_numbering": 1,
   "nav_menu": {},
   "number_sections": false,
   "sideBar": true,
   "skip_h1_title": false,
   "title_cell": "Table of Contents",
   "title_sidebar": "Contents",
   "toc_cell": false,
   "toc_position": {},
   "toc_section_display": true,
   "toc_window_display": false
  }
 },
 "nbformat": 4,
 "nbformat_minor": 5
}
